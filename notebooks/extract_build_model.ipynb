{
 "cells": [
  {
   "cell_type": "code",
   "execution_count": 1,
   "metadata": {},
   "outputs": [
    {
     "data": {
      "text/plain": [
       "True"
      ]
     },
     "execution_count": 1,
     "metadata": {},
     "output_type": "execute_result"
    }
   ],
   "source": [
    "import pandas as pd\n",
    "import numpy as np\n",
    "import matplotlib.pyplot as plt\n",
    "import os\n",
    "import seaborn as sns\n",
    "from energy_forecast.Dataloader import Dataloader\n",
    "from dotenv import load_dotenv\n",
    "load_dotenv()"
   ]
  },
  {
   "cell_type": "code",
   "execution_count": 2,
   "metadata": {},
   "outputs": [
    {
     "name": "stderr",
     "output_type": "stream",
     "text": [
      "/home/sambegou/projet_bg/src/energy_forecast/Dataloader.py:65: DtypeWarning: Columns (13) have mixed types. Specify dtype option on import or set low_memory=False.\n",
      "  return pd.read_csv(filename, delimiter=\",\")\n"
     ]
    },
    {
     "data": {
      "text/html": [
       "<div>\n",
       "<style scoped>\n",
       "    .dataframe tbody tr th:only-of-type {\n",
       "        vertical-align: middle;\n",
       "    }\n",
       "\n",
       "    .dataframe tbody tr th {\n",
       "        vertical-align: top;\n",
       "    }\n",
       "\n",
       "    .dataframe thead th {\n",
       "        text-align: right;\n",
       "    }\n",
       "</style>\n",
       "<table border=\"1\" class=\"dataframe\">\n",
       "  <thead>\n",
       "    <tr style=\"text-align: right;\">\n",
       "      <th></th>\n",
       "      <th>nom_methode_dpe</th>\n",
       "      <th>version_methode_dpe</th>\n",
       "      <th>date_etablissement_dpe</th>\n",
       "      <th>consommation_energie</th>\n",
       "      <th>classe_consommation_energie</th>\n",
       "      <th>estimation_ges</th>\n",
       "      <th>classe_estimation_ges</th>\n",
       "      <th>annee_construction</th>\n",
       "      <th>surface_thermique_lot</th>\n",
       "      <th>latitude</th>\n",
       "      <th>longitude</th>\n",
       "      <th>tr001_modele_dpe_type_libelle</th>\n",
       "      <th>tr002_type_batiment_description</th>\n",
       "      <th>code_insee_commune_actualise</th>\n",
       "      <th>tv016_departement_code</th>\n",
       "      <th>geo_adresse</th>\n",
       "      <th>geo_score</th>\n",
       "    </tr>\n",
       "  </thead>\n",
       "  <tbody>\n",
       "    <tr>\n",
       "      <th>0</th>\n",
       "      <td>3CL</td>\n",
       "      <td>3CL-DPE, version 1.3</td>\n",
       "      <td>2013-04-12</td>\n",
       "      <td>132.0</td>\n",
       "      <td>C</td>\n",
       "      <td>29.0</td>\n",
       "      <td>D</td>\n",
       "      <td>5200</td>\n",
       "      <td>190.0</td>\n",
       "      <td>46.040911</td>\n",
       "      <td>5.317098</td>\n",
       "      <td>Vente</td>\n",
       "      <td>Maison Individuelle</td>\n",
       "      <td>1430.0</td>\n",
       "      <td>1</td>\n",
       "      <td>3 Impasse du Foyer Rural 01160 Varambon</td>\n",
       "      <td>0.4</td>\n",
       "    </tr>\n",
       "    <tr>\n",
       "      <th>1</th>\n",
       "      <td>Méthode Facture</td>\n",
       "      <td>NaN</td>\n",
       "      <td>2013-04-20</td>\n",
       "      <td>0.0</td>\n",
       "      <td>N</td>\n",
       "      <td>0.0</td>\n",
       "      <td>N</td>\n",
       "      <td>1947</td>\n",
       "      <td>42.0</td>\n",
       "      <td>NaN</td>\n",
       "      <td>NaN</td>\n",
       "      <td>Vente</td>\n",
       "      <td>Maison Individuelle</td>\n",
       "      <td>83590.0</td>\n",
       "      <td>2</td>\n",
       "      <td>NaN</td>\n",
       "      <td>0.0</td>\n",
       "    </tr>\n",
       "    <tr>\n",
       "      <th>2</th>\n",
       "      <td>Méthode 3CL</td>\n",
       "      <td>3CL-DPE, version 1.3</td>\n",
       "      <td>2013-04-16</td>\n",
       "      <td>326.0</td>\n",
       "      <td>E</td>\n",
       "      <td>18.0</td>\n",
       "      <td>C</td>\n",
       "      <td>2006</td>\n",
       "      <td>107.0</td>\n",
       "      <td>NaN</td>\n",
       "      <td>NaN</td>\n",
       "      <td>Vente</td>\n",
       "      <td>Maison Individuelle</td>\n",
       "      <td>3360.0</td>\n",
       "      <td>3</td>\n",
       "      <td>NaN</td>\n",
       "      <td>0.0</td>\n",
       "    </tr>\n",
       "    <tr>\n",
       "      <th>3</th>\n",
       "      <td>Méthode 3CL</td>\n",
       "      <td>3CL-DPE, version 1.3</td>\n",
       "      <td>2013-05-06</td>\n",
       "      <td>326.0</td>\n",
       "      <td>E</td>\n",
       "      <td>14.0</td>\n",
       "      <td>C</td>\n",
       "      <td>1948</td>\n",
       "      <td>90.0</td>\n",
       "      <td>NaN</td>\n",
       "      <td>NaN</td>\n",
       "      <td>Vente</td>\n",
       "      <td>Logement</td>\n",
       "      <td>4320.0</td>\n",
       "      <td>4</td>\n",
       "      <td>NaN</td>\n",
       "      <td>0.0</td>\n",
       "    </tr>\n",
       "    <tr>\n",
       "      <th>4</th>\n",
       "      <td>Méthode 3CL</td>\n",
       "      <td>3CL-DPE, version 1.3</td>\n",
       "      <td>2013-04-27</td>\n",
       "      <td>221.0</td>\n",
       "      <td>D</td>\n",
       "      <td>3.0</td>\n",
       "      <td>A</td>\n",
       "      <td>2006</td>\n",
       "      <td>78.2</td>\n",
       "      <td>44.773510</td>\n",
       "      <td>6.954523</td>\n",
       "      <td>Location</td>\n",
       "      <td>Logement</td>\n",
       "      <td>5120.0</td>\n",
       "      <td>5</td>\n",
       "      <td>Rue de la Bluette 05460 Abriès-Ristolas</td>\n",
       "      <td>0.4</td>\n",
       "    </tr>\n",
       "  </tbody>\n",
       "</table>\n",
       "</div>"
      ],
      "text/plain": [
       "   nom_methode_dpe   version_methode_dpe date_etablissement_dpe  \\\n",
       "0              3CL  3CL-DPE, version 1.3             2013-04-12   \n",
       "1  Méthode Facture                   NaN             2013-04-20   \n",
       "2      Méthode 3CL  3CL-DPE, version 1.3             2013-04-16   \n",
       "3      Méthode 3CL  3CL-DPE, version 1.3             2013-05-06   \n",
       "4      Méthode 3CL  3CL-DPE, version 1.3             2013-04-27   \n",
       "\n",
       "   consommation_energie classe_consommation_energie  estimation_ges  \\\n",
       "0                 132.0                           C            29.0   \n",
       "1                   0.0                           N             0.0   \n",
       "2                 326.0                           E            18.0   \n",
       "3                 326.0                           E            14.0   \n",
       "4                 221.0                           D             3.0   \n",
       "\n",
       "  classe_estimation_ges  annee_construction  surface_thermique_lot   latitude  \\\n",
       "0                     D                5200                  190.0  46.040911   \n",
       "1                     N                1947                   42.0        NaN   \n",
       "2                     C                2006                  107.0        NaN   \n",
       "3                     C                1948                   90.0        NaN   \n",
       "4                     A                2006                   78.2  44.773510   \n",
       "\n",
       "   longitude tr001_modele_dpe_type_libelle tr002_type_batiment_description  \\\n",
       "0   5.317098                         Vente             Maison Individuelle   \n",
       "1        NaN                         Vente             Maison Individuelle   \n",
       "2        NaN                         Vente             Maison Individuelle   \n",
       "3        NaN                         Vente                        Logement   \n",
       "4   6.954523                      Location                        Logement   \n",
       "\n",
       "  code_insee_commune_actualise  tv016_departement_code  \\\n",
       "0                       1430.0                       1   \n",
       "1                      83590.0                       2   \n",
       "2                       3360.0                       3   \n",
       "3                       4320.0                       4   \n",
       "4                       5120.0                       5   \n",
       "\n",
       "                               geo_adresse  geo_score  \n",
       "0  3 Impasse du Foyer Rural 01160 Varambon        0.4  \n",
       "1                                      NaN        0.0  \n",
       "2                                      NaN        0.0  \n",
       "3                                      NaN        0.0  \n",
       "4  Rue de la Bluette 05460 Abriès-Ristolas        0.4  "
      ]
     },
     "execution_count": 2,
     "metadata": {},
     "output_type": "execute_result"
    }
   ],
   "source": [
    "Loader = Dataloader()\n",
    "data = Loader.load_csv()\n",
    "data.head()"
   ]
  },
  {
   "cell_type": "code",
   "execution_count": 3,
   "metadata": {},
   "outputs": [
    {
     "data": {
      "text/plain": [
       "(100008, 17)"
      ]
     },
     "execution_count": 3,
     "metadata": {},
     "output_type": "execute_result"
    }
   ],
   "source": [
    "data.shape"
   ]
  },
  {
   "cell_type": "code",
   "execution_count": 4,
   "metadata": {},
   "outputs": [
    {
     "data": {
      "text/html": [
       "<div>\n",
       "<style scoped>\n",
       "    .dataframe tbody tr th:only-of-type {\n",
       "        vertical-align: middle;\n",
       "    }\n",
       "\n",
       "    .dataframe tbody tr th {\n",
       "        vertical-align: top;\n",
       "    }\n",
       "\n",
       "    .dataframe thead th {\n",
       "        text-align: right;\n",
       "    }\n",
       "</style>\n",
       "<table border=\"1\" class=\"dataframe\">\n",
       "  <thead>\n",
       "    <tr style=\"text-align: right;\">\n",
       "      <th></th>\n",
       "      <th>nom_methode_dpe</th>\n",
       "      <th>version_methode_dpe</th>\n",
       "      <th>date_etablissement_dpe</th>\n",
       "      <th>consommation_energie</th>\n",
       "      <th>classe_consommation_energie</th>\n",
       "      <th>estimation_ges</th>\n",
       "      <th>classe_estimation_ges</th>\n",
       "      <th>annee_construction</th>\n",
       "      <th>surface_thermique_lot</th>\n",
       "      <th>latitude</th>\n",
       "      <th>longitude</th>\n",
       "      <th>tr001_modele_dpe_type_libelle</th>\n",
       "      <th>tr002_type_batiment_description</th>\n",
       "      <th>code_insee_commune_actualise</th>\n",
       "      <th>tv016_departement_code</th>\n",
       "      <th>geo_adresse</th>\n",
       "      <th>geo_score</th>\n",
       "    </tr>\n",
       "  </thead>\n",
       "  <tbody>\n",
       "    <tr>\n",
       "      <th>0</th>\n",
       "      <td>3CL</td>\n",
       "      <td>3CL-DPE, version 1.3</td>\n",
       "      <td>2013-04-12</td>\n",
       "      <td>132.0</td>\n",
       "      <td>C</td>\n",
       "      <td>29.0</td>\n",
       "      <td>D</td>\n",
       "      <td>5200</td>\n",
       "      <td>190.0</td>\n",
       "      <td>46.040911</td>\n",
       "      <td>5.317098</td>\n",
       "      <td>Vente</td>\n",
       "      <td>Maison Individuelle</td>\n",
       "      <td>1430.0</td>\n",
       "      <td>1</td>\n",
       "      <td>3 Impasse du Foyer Rural 01160 Varambon</td>\n",
       "      <td>0.4</td>\n",
       "    </tr>\n",
       "    <tr>\n",
       "      <th>1</th>\n",
       "      <td>Méthode Facture</td>\n",
       "      <td>NaN</td>\n",
       "      <td>2013-04-20</td>\n",
       "      <td>0.0</td>\n",
       "      <td>N</td>\n",
       "      <td>0.0</td>\n",
       "      <td>N</td>\n",
       "      <td>1947</td>\n",
       "      <td>42.0</td>\n",
       "      <td>NaN</td>\n",
       "      <td>NaN</td>\n",
       "      <td>Vente</td>\n",
       "      <td>Maison Individuelle</td>\n",
       "      <td>83590.0</td>\n",
       "      <td>2</td>\n",
       "      <td>NaN</td>\n",
       "      <td>0.0</td>\n",
       "    </tr>\n",
       "    <tr>\n",
       "      <th>2</th>\n",
       "      <td>Méthode 3CL</td>\n",
       "      <td>3CL-DPE, version 1.3</td>\n",
       "      <td>2013-04-16</td>\n",
       "      <td>326.0</td>\n",
       "      <td>E</td>\n",
       "      <td>18.0</td>\n",
       "      <td>C</td>\n",
       "      <td>2006</td>\n",
       "      <td>107.0</td>\n",
       "      <td>NaN</td>\n",
       "      <td>NaN</td>\n",
       "      <td>Vente</td>\n",
       "      <td>Maison Individuelle</td>\n",
       "      <td>3360.0</td>\n",
       "      <td>3</td>\n",
       "      <td>NaN</td>\n",
       "      <td>0.0</td>\n",
       "    </tr>\n",
       "    <tr>\n",
       "      <th>3</th>\n",
       "      <td>Méthode 3CL</td>\n",
       "      <td>3CL-DPE, version 1.3</td>\n",
       "      <td>2013-05-06</td>\n",
       "      <td>326.0</td>\n",
       "      <td>E</td>\n",
       "      <td>14.0</td>\n",
       "      <td>C</td>\n",
       "      <td>1948</td>\n",
       "      <td>90.0</td>\n",
       "      <td>NaN</td>\n",
       "      <td>NaN</td>\n",
       "      <td>Vente</td>\n",
       "      <td>Logement</td>\n",
       "      <td>4320.0</td>\n",
       "      <td>4</td>\n",
       "      <td>NaN</td>\n",
       "      <td>0.0</td>\n",
       "    </tr>\n",
       "    <tr>\n",
       "      <th>4</th>\n",
       "      <td>Méthode 3CL</td>\n",
       "      <td>3CL-DPE, version 1.3</td>\n",
       "      <td>2013-04-27</td>\n",
       "      <td>221.0</td>\n",
       "      <td>D</td>\n",
       "      <td>3.0</td>\n",
       "      <td>A</td>\n",
       "      <td>2006</td>\n",
       "      <td>78.2</td>\n",
       "      <td>44.773510</td>\n",
       "      <td>6.954523</td>\n",
       "      <td>Location</td>\n",
       "      <td>Logement</td>\n",
       "      <td>5120.0</td>\n",
       "      <td>5</td>\n",
       "      <td>Rue de la Bluette 05460 Abriès-Ristolas</td>\n",
       "      <td>0.4</td>\n",
       "    </tr>\n",
       "  </tbody>\n",
       "</table>\n",
       "</div>"
      ],
      "text/plain": [
       "   nom_methode_dpe   version_methode_dpe date_etablissement_dpe  \\\n",
       "0              3CL  3CL-DPE, version 1.3             2013-04-12   \n",
       "1  Méthode Facture                   NaN             2013-04-20   \n",
       "2      Méthode 3CL  3CL-DPE, version 1.3             2013-04-16   \n",
       "3      Méthode 3CL  3CL-DPE, version 1.3             2013-05-06   \n",
       "4      Méthode 3CL  3CL-DPE, version 1.3             2013-04-27   \n",
       "\n",
       "   consommation_energie classe_consommation_energie  estimation_ges  \\\n",
       "0                 132.0                           C            29.0   \n",
       "1                   0.0                           N             0.0   \n",
       "2                 326.0                           E            18.0   \n",
       "3                 326.0                           E            14.0   \n",
       "4                 221.0                           D             3.0   \n",
       "\n",
       "  classe_estimation_ges  annee_construction  surface_thermique_lot   latitude  \\\n",
       "0                     D                5200                  190.0  46.040911   \n",
       "1                     N                1947                   42.0        NaN   \n",
       "2                     C                2006                  107.0        NaN   \n",
       "3                     C                1948                   90.0        NaN   \n",
       "4                     A                2006                   78.2  44.773510   \n",
       "\n",
       "   longitude tr001_modele_dpe_type_libelle tr002_type_batiment_description  \\\n",
       "0   5.317098                         Vente             Maison Individuelle   \n",
       "1        NaN                         Vente             Maison Individuelle   \n",
       "2        NaN                         Vente             Maison Individuelle   \n",
       "3        NaN                         Vente                        Logement   \n",
       "4   6.954523                      Location                        Logement   \n",
       "\n",
       "  code_insee_commune_actualise  tv016_departement_code  \\\n",
       "0                       1430.0                       1   \n",
       "1                      83590.0                       2   \n",
       "2                       3360.0                       3   \n",
       "3                       4320.0                       4   \n",
       "4                       5120.0                       5   \n",
       "\n",
       "                               geo_adresse  geo_score  \n",
       "0  3 Impasse du Foyer Rural 01160 Varambon        0.4  \n",
       "1                                      NaN        0.0  \n",
       "2                                      NaN        0.0  \n",
       "3                                      NaN        0.0  \n",
       "4  Rue de la Bluette 05460 Abriès-Ristolas        0.4  "
      ]
     },
     "execution_count": 4,
     "metadata": {},
     "output_type": "execute_result"
    }
   ],
   "source": [
    "data.head()"
   ]
  },
  {
   "cell_type": "code",
   "execution_count": 5,
   "metadata": {},
   "outputs": [],
   "source": [
    "table_schema = pd.read_json(\"dpe-france-tableschema.json\").transpose()\n",
    "columns_names = table_schema.values[0]\n",
    "title = []\n",
    "for i in range(len(columns_names)):\n",
    "    try:\n",
    "        title.append(columns_names[i]['title'])\n",
    "    except:\n",
    "        title.append(columns_names[i]['name'])"
   ]
  },
  {
   "cell_type": "code",
   "execution_count": 6,
   "metadata": {},
   "outputs": [
    {
     "data": {
      "text/plain": [
       "['Nom de la méthode DPE utilisée',\n",
       " 'Version de la méthode DPE utilisée',\n",
       " 'Date DPE',\n",
       " 'Consommation énergie en kWhEP/m².an',\n",
       " \"Classement consommation d'énergie\",\n",
       " 'Estimation GES en Kg eqCO2/m².an',\n",
       " 'Classement GES',\n",
       " 'Année de construction ou évaluation de cette date',\n",
       " \"Surface thermique du lot pour un bâtiment à usage principal autre qu'habitation\",\n",
       " 'Latitude du Bâtiment',\n",
       " 'Longitude du Bâtiment',\n",
       " 'Type de DPE',\n",
       " 'Type de bâtiment',\n",
       " 'Code INSEE Commune',\n",
       " 'Code département',\n",
       " 'geo_adresse',\n",
       " 'geo_score']"
      ]
     },
     "execution_count": 6,
     "metadata": {},
     "output_type": "execute_result"
    }
   ],
   "source": [
    "title"
   ]
  },
  {
   "cell_type": "code",
   "execution_count": 7,
   "metadata": {},
   "outputs": [],
   "source": [
    "columns_drop = [\"nom_methode_dpe\", \"version_methode_dpe\", \"date_etablissement_dpe\", \n",
    "                \"geo_adresse\", \"geo_score\", \"consommation_energie\", \"estimation_ges\", \n",
    "                \"latitude\", \"longitude\", \"tv016_departement_code\",]"
   ]
  },
  {
   "cell_type": "code",
   "execution_count": 8,
   "metadata": {},
   "outputs": [],
   "source": [
    "data.drop(columns=columns_drop, inplace=True)"
   ]
  },
  {
   "cell_type": "code",
   "execution_count": 9,
   "metadata": {},
   "outputs": [
    {
     "data": {
      "text/html": [
       "<div>\n",
       "<style scoped>\n",
       "    .dataframe tbody tr th:only-of-type {\n",
       "        vertical-align: middle;\n",
       "    }\n",
       "\n",
       "    .dataframe tbody tr th {\n",
       "        vertical-align: top;\n",
       "    }\n",
       "\n",
       "    .dataframe thead th {\n",
       "        text-align: right;\n",
       "    }\n",
       "</style>\n",
       "<table border=\"1\" class=\"dataframe\">\n",
       "  <thead>\n",
       "    <tr style=\"text-align: right;\">\n",
       "      <th></th>\n",
       "      <th>classe_consommation_energie</th>\n",
       "      <th>classe_estimation_ges</th>\n",
       "      <th>annee_construction</th>\n",
       "      <th>surface_thermique_lot</th>\n",
       "      <th>tr001_modele_dpe_type_libelle</th>\n",
       "      <th>tr002_type_batiment_description</th>\n",
       "      <th>code_insee_commune_actualise</th>\n",
       "    </tr>\n",
       "  </thead>\n",
       "  <tbody>\n",
       "    <tr>\n",
       "      <th>0</th>\n",
       "      <td>C</td>\n",
       "      <td>D</td>\n",
       "      <td>5200</td>\n",
       "      <td>190.0</td>\n",
       "      <td>Vente</td>\n",
       "      <td>Maison Individuelle</td>\n",
       "      <td>1430.0</td>\n",
       "    </tr>\n",
       "    <tr>\n",
       "      <th>1</th>\n",
       "      <td>N</td>\n",
       "      <td>N</td>\n",
       "      <td>1947</td>\n",
       "      <td>42.0</td>\n",
       "      <td>Vente</td>\n",
       "      <td>Maison Individuelle</td>\n",
       "      <td>83590.0</td>\n",
       "    </tr>\n",
       "    <tr>\n",
       "      <th>2</th>\n",
       "      <td>E</td>\n",
       "      <td>C</td>\n",
       "      <td>2006</td>\n",
       "      <td>107.0</td>\n",
       "      <td>Vente</td>\n",
       "      <td>Maison Individuelle</td>\n",
       "      <td>3360.0</td>\n",
       "    </tr>\n",
       "    <tr>\n",
       "      <th>3</th>\n",
       "      <td>E</td>\n",
       "      <td>C</td>\n",
       "      <td>1948</td>\n",
       "      <td>90.0</td>\n",
       "      <td>Vente</td>\n",
       "      <td>Logement</td>\n",
       "      <td>4320.0</td>\n",
       "    </tr>\n",
       "    <tr>\n",
       "      <th>4</th>\n",
       "      <td>D</td>\n",
       "      <td>A</td>\n",
       "      <td>2006</td>\n",
       "      <td>78.2</td>\n",
       "      <td>Location</td>\n",
       "      <td>Logement</td>\n",
       "      <td>5120.0</td>\n",
       "    </tr>\n",
       "  </tbody>\n",
       "</table>\n",
       "</div>"
      ],
      "text/plain": [
       "  classe_consommation_energie classe_estimation_ges  annee_construction  \\\n",
       "0                           C                     D                5200   \n",
       "1                           N                     N                1947   \n",
       "2                           E                     C                2006   \n",
       "3                           E                     C                1948   \n",
       "4                           D                     A                2006   \n",
       "\n",
       "   surface_thermique_lot tr001_modele_dpe_type_libelle  \\\n",
       "0                  190.0                         Vente   \n",
       "1                   42.0                         Vente   \n",
       "2                  107.0                         Vente   \n",
       "3                   90.0                         Vente   \n",
       "4                   78.2                      Location   \n",
       "\n",
       "  tr002_type_batiment_description code_insee_commune_actualise  \n",
       "0             Maison Individuelle                       1430.0  \n",
       "1             Maison Individuelle                      83590.0  \n",
       "2             Maison Individuelle                       3360.0  \n",
       "3                        Logement                       4320.0  \n",
       "4                        Logement                       5120.0  "
      ]
     },
     "execution_count": 9,
     "metadata": {},
     "output_type": "execute_result"
    }
   ],
   "source": [
    "data.head()"
   ]
  },
  {
   "cell_type": "code",
   "execution_count": 10,
   "metadata": {},
   "outputs": [
    {
     "data": {
      "image/png": "[encoded data removed]",
      "text/plain": [
       "<Figure size 640x480 with 1 Axes>"
      ]
     },
     "metadata": {},
     "output_type": "display_data"
    }
   ],
   "source": [
    "sns.heatmap(data.isnull(), cbar=False)\n",
    "plt.show()"
   ]
  },
  {
   "cell_type": "code",
   "execution_count": 11,
   "metadata": {},
   "outputs": [
    {
     "data": {
      "text/plain": [
       "classe_consommation_energie          0\n",
       "classe_estimation_ges                0\n",
       "annee_construction                   0\n",
       "surface_thermique_lot                2\n",
       "tr001_modele_dpe_type_libelle        0\n",
       "tr002_type_batiment_description      0\n",
       "code_insee_commune_actualise       167\n",
       "dtype: int64"
      ]
     },
     "execution_count": 11,
     "metadata": {},
     "output_type": "execute_result"
    }
   ],
   "source": [
    "data.isnull().sum()"
   ]
  },
  {
   "cell_type": "code",
   "execution_count": 12,
   "metadata": {},
   "outputs": [],
   "source": [
    "import re\n",
    "data[\"code_insee_commune_actualise\"] = data[\"code_insee_commune_actualise\"].\\\n",
    "    apply(lambda x: float(re.sub('[^0-9]', '', str(x))) if re.sub('[^0-9]', '', str(x)) else 0)"
   ]
  },
  {
   "cell_type": "code",
   "execution_count": 13,
   "metadata": {},
   "outputs": [
    {
     "data": {
      "text/plain": [
       "10387.0    2275\n",
       "63000.0    1730\n",
       "4112.0     1412\n",
       "6088.0     1261\n",
       "5018.0     1107\n",
       "           ... \n",
       "1175.0        1\n",
       "9050.0        1\n",
       "9212.0        1\n",
       "4169.0        1\n",
       "30230.0       1\n",
       "Name: code_insee_commune_actualise, Length: 5121, dtype: int64"
      ]
     },
     "execution_count": 13,
     "metadata": {},
     "output_type": "execute_result"
    }
   ],
   "source": [
    "data[\"code_insee_commune_actualise\"].value_counts()"
   ]
  },
  {
   "cell_type": "code",
   "execution_count": 15,
   "metadata": {},
   "outputs": [
    {
     "data": {
      "text/plain": [
       "classe_consommation_energie        0\n",
       "classe_estimation_ges              0\n",
       "annee_construction                 0\n",
       "surface_thermique_lot              2\n",
       "tr001_modele_dpe_type_libelle      0\n",
       "tr002_type_batiment_description    0\n",
       "code_insee_commune_actualise       0\n",
       "dtype: int64"
      ]
     },
     "execution_count": 15,
     "metadata": {},
     "output_type": "execute_result"
    }
   ],
   "source": [
    "data.isnull().sum()"
   ]
  },
  {
   "cell_type": "code",
   "execution_count": 16,
   "metadata": {},
   "outputs": [],
   "source": [
    "data[\"surface_thermique_lot\"].fillna(0, inplace=True)"
   ]
  },
  {
   "cell_type": "code",
   "execution_count": 17,
   "metadata": {},
   "outputs": [
    {
     "data": {
      "text/plain": [
       "classe_consommation_energie        0\n",
       "classe_estimation_ges              0\n",
       "annee_construction                 0\n",
       "surface_thermique_lot              0\n",
       "tr001_modele_dpe_type_libelle      0\n",
       "tr002_type_batiment_description    0\n",
       "code_insee_commune_actualise       0\n",
       "dtype: int64"
      ]
     },
     "execution_count": 17,
     "metadata": {},
     "output_type": "execute_result"
    }
   ],
   "source": [
    "data.isnull().sum()"
   ]
  },
  {
   "cell_type": "code",
   "execution_count": 21,
   "metadata": {},
   "outputs": [
    {
     "data": {
      "text/plain": [
       "12765"
      ]
     },
     "execution_count": 21,
     "metadata": {},
     "output_type": "execute_result"
    }
   ],
   "source": [
    "data.duplicated().sum()"
   ]
  },
  {
   "cell_type": "code",
   "execution_count": 22,
   "metadata": {},
   "outputs": [],
   "source": [
    "data.drop_duplicates(inplace=True)"
   ]
  },
  {
   "cell_type": "code",
   "execution_count": 23,
   "metadata": {},
   "outputs": [
    {
     "data": {
      "text/plain": [
       "0"
      ]
     },
     "execution_count": 23,
     "metadata": {},
     "output_type": "execute_result"
    }
   ],
   "source": [
    "data.duplicated().sum()"
   ]
  },
  {
   "cell_type": "code",
   "execution_count": 24,
   "metadata": {},
   "outputs": [],
   "source": [
    "df = data.reindex(sorted(data.columns), axis=1)"
   ]
  },
  {
   "cell_type": "code",
   "execution_count": 25,
   "metadata": {},
   "outputs": [
    {
     "data": {
      "text/html": [
       "<div>\n",
       "<style scoped>\n",
       "    .dataframe tbody tr th:only-of-type {\n",
       "        vertical-align: middle;\n",
       "    }\n",
       "\n",
       "    .dataframe tbody tr th {\n",
       "        vertical-align: top;\n",
       "    }\n",
       "\n",
       "    .dataframe thead th {\n",
       "        text-align: right;\n",
       "    }\n",
       "</style>\n",
       "<table border=\"1\" class=\"dataframe\">\n",
       "  <thead>\n",
       "    <tr style=\"text-align: right;\">\n",
       "      <th></th>\n",
       "      <th>annee_construction</th>\n",
       "      <th>classe_consommation_energie</th>\n",
       "      <th>classe_estimation_ges</th>\n",
       "      <th>code_insee_commune_actualise</th>\n",
       "      <th>surface_thermique_lot</th>\n",
       "      <th>tr001_modele_dpe_type_libelle</th>\n",
       "      <th>tr002_type_batiment_description</th>\n",
       "    </tr>\n",
       "  </thead>\n",
       "  <tbody>\n",
       "    <tr>\n",
       "      <th>0</th>\n",
       "      <td>5200</td>\n",
       "      <td>C</td>\n",
       "      <td>D</td>\n",
       "      <td>14300.0</td>\n",
       "      <td>190.0</td>\n",
       "      <td>Vente</td>\n",
       "      <td>Maison Individuelle</td>\n",
       "    </tr>\n",
       "    <tr>\n",
       "      <th>1</th>\n",
       "      <td>1947</td>\n",
       "      <td>N</td>\n",
       "      <td>N</td>\n",
       "      <td>835900.0</td>\n",
       "      <td>42.0</td>\n",
       "      <td>Vente</td>\n",
       "      <td>Maison Individuelle</td>\n",
       "    </tr>\n",
       "    <tr>\n",
       "      <th>2</th>\n",
       "      <td>2006</td>\n",
       "      <td>E</td>\n",
       "      <td>C</td>\n",
       "      <td>33600.0</td>\n",
       "      <td>107.0</td>\n",
       "      <td>Vente</td>\n",
       "      <td>Maison Individuelle</td>\n",
       "    </tr>\n",
       "    <tr>\n",
       "      <th>3</th>\n",
       "      <td>1948</td>\n",
       "      <td>E</td>\n",
       "      <td>C</td>\n",
       "      <td>43200.0</td>\n",
       "      <td>90.0</td>\n",
       "      <td>Vente</td>\n",
       "      <td>Logement</td>\n",
       "    </tr>\n",
       "    <tr>\n",
       "      <th>4</th>\n",
       "      <td>2006</td>\n",
       "      <td>D</td>\n",
       "      <td>A</td>\n",
       "      <td>51200.0</td>\n",
       "      <td>78.2</td>\n",
       "      <td>Location</td>\n",
       "      <td>Logement</td>\n",
       "    </tr>\n",
       "  </tbody>\n",
       "</table>\n",
       "</div>"
      ],
      "text/plain": [
       "   annee_construction classe_consommation_energie classe_estimation_ges  \\\n",
       "0                5200                           C                     D   \n",
       "1                1947                           N                     N   \n",
       "2                2006                           E                     C   \n",
       "3                1948                           E                     C   \n",
       "4                2006                           D                     A   \n",
       "\n",
       "   code_insee_commune_actualise  surface_thermique_lot  \\\n",
       "0                       14300.0                  190.0   \n",
       "1                      835900.0                   42.0   \n",
       "2                       33600.0                  107.0   \n",
       "3                       43200.0                   90.0   \n",
       "4                       51200.0                   78.2   \n",
       "\n",
       "  tr001_modele_dpe_type_libelle tr002_type_batiment_description  \n",
       "0                         Vente             Maison Individuelle  \n",
       "1                         Vente             Maison Individuelle  \n",
       "2                         Vente             Maison Individuelle  \n",
       "3                         Vente                        Logement  \n",
       "4                      Location                        Logement  "
      ]
     },
     "execution_count": 25,
     "metadata": {},
     "output_type": "execute_result"
    }
   ],
   "source": [
    "df.head()"
   ]
  },
  {
   "cell_type": "code",
   "execution_count": 26,
   "metadata": {},
   "outputs": [],
   "source": [
    "from sklearn.model_selection import train_test_split\n",
    "from sklearn.preprocessing import StandardScaler\n",
    "from sklearn.linear_model import LogisticRegression\n",
    "from xgboost import XGBClassifier\n",
    "from sklearn.ensemble import RandomForestClassifier\n",
    "from sklearn.preprocessing import LabelEncoder"
   ]
  },
  {
   "cell_type": "code",
   "execution_count": 27,
   "metadata": {},
   "outputs": [
    {
     "data": {
      "text/html": [
       "<div>\n",
       "<style scoped>\n",
       "    .dataframe tbody tr th:only-of-type {\n",
       "        vertical-align: middle;\n",
       "    }\n",
       "\n",
       "    .dataframe tbody tr th {\n",
       "        vertical-align: top;\n",
       "    }\n",
       "\n",
       "    .dataframe thead th {\n",
       "        text-align: right;\n",
       "    }\n",
       "</style>\n",
       "<table border=\"1\" class=\"dataframe\">\n",
       "  <thead>\n",
       "    <tr style=\"text-align: right;\">\n",
       "      <th></th>\n",
       "      <th>annee_construction</th>\n",
       "      <th>code_insee_commune_actualise</th>\n",
       "      <th>surface_thermique_lot</th>\n",
       "      <th>tr001_modele_dpe_type_libelle_Bâtiment public</th>\n",
       "      <th>tr001_modele_dpe_type_libelle_Copropriété</th>\n",
       "      <th>tr001_modele_dpe_type_libelle_Location</th>\n",
       "      <th>tr001_modele_dpe_type_libelle_Neuf</th>\n",
       "      <th>tr001_modele_dpe_type_libelle_Vente</th>\n",
       "      <th>tr002_type_batiment_description_Bâtiment collectif à usage principal d'habitation</th>\n",
       "      <th>tr002_type_batiment_description_Logement</th>\n",
       "      <th>tr002_type_batiment_description_Maison Individuelle</th>\n",
       "    </tr>\n",
       "  </thead>\n",
       "  <tbody>\n",
       "    <tr>\n",
       "      <th>0</th>\n",
       "      <td>5200</td>\n",
       "      <td>14300.0</td>\n",
       "      <td>190.0</td>\n",
       "      <td>0</td>\n",
       "      <td>0</td>\n",
       "      <td>0</td>\n",
       "      <td>0</td>\n",
       "      <td>1</td>\n",
       "      <td>0</td>\n",
       "      <td>0</td>\n",
       "      <td>1</td>\n",
       "    </tr>\n",
       "    <tr>\n",
       "      <th>1</th>\n",
       "      <td>1947</td>\n",
       "      <td>835900.0</td>\n",
       "      <td>42.0</td>\n",
       "      <td>0</td>\n",
       "      <td>0</td>\n",
       "      <td>0</td>\n",
       "      <td>0</td>\n",
       "      <td>1</td>\n",
       "      <td>0</td>\n",
       "      <td>0</td>\n",
       "      <td>1</td>\n",
       "    </tr>\n",
       "    <tr>\n",
       "      <th>2</th>\n",
       "      <td>2006</td>\n",
       "      <td>33600.0</td>\n",
       "      <td>107.0</td>\n",
       "      <td>0</td>\n",
       "      <td>0</td>\n",
       "      <td>0</td>\n",
       "      <td>0</td>\n",
       "      <td>1</td>\n",
       "      <td>0</td>\n",
       "      <td>0</td>\n",
       "      <td>1</td>\n",
       "    </tr>\n",
       "    <tr>\n",
       "      <th>3</th>\n",
       "      <td>1948</td>\n",
       "      <td>43200.0</td>\n",
       "      <td>90.0</td>\n",
       "      <td>0</td>\n",
       "      <td>0</td>\n",
       "      <td>0</td>\n",
       "      <td>0</td>\n",
       "      <td>1</td>\n",
       "      <td>0</td>\n",
       "      <td>1</td>\n",
       "      <td>0</td>\n",
       "    </tr>\n",
       "    <tr>\n",
       "      <th>4</th>\n",
       "      <td>2006</td>\n",
       "      <td>51200.0</td>\n",
       "      <td>78.2</td>\n",
       "      <td>0</td>\n",
       "      <td>0</td>\n",
       "      <td>1</td>\n",
       "      <td>0</td>\n",
       "      <td>0</td>\n",
       "      <td>0</td>\n",
       "      <td>1</td>\n",
       "      <td>0</td>\n",
       "    </tr>\n",
       "  </tbody>\n",
       "</table>\n",
       "</div>"
      ],
      "text/plain": [
       "   annee_construction  code_insee_commune_actualise  surface_thermique_lot  \\\n",
       "0                5200                       14300.0                  190.0   \n",
       "1                1947                      835900.0                   42.0   \n",
       "2                2006                       33600.0                  107.0   \n",
       "3                1948                       43200.0                   90.0   \n",
       "4                2006                       51200.0                   78.2   \n",
       "\n",
       "   tr001_modele_dpe_type_libelle_Bâtiment public  \\\n",
       "0                                              0   \n",
       "1                                              0   \n",
       "2                                              0   \n",
       "3                                              0   \n",
       "4                                              0   \n",
       "\n",
       "   tr001_modele_dpe_type_libelle_Copropriété  \\\n",
       "0                                          0   \n",
       "1                                          0   \n",
       "2                                          0   \n",
       "3                                          0   \n",
       "4                                          0   \n",
       "\n",
       "   tr001_modele_dpe_type_libelle_Location  tr001_modele_dpe_type_libelle_Neuf  \\\n",
       "0                                       0                                   0   \n",
       "1                                       0                                   0   \n",
       "2                                       0                                   0   \n",
       "3                                       0                                   0   \n",
       "4                                       1                                   0   \n",
       "\n",
       "   tr001_modele_dpe_type_libelle_Vente  \\\n",
       "0                                    1   \n",
       "1                                    1   \n",
       "2                                    1   \n",
       "3                                    1   \n",
       "4                                    0   \n",
       "\n",
       "   tr002_type_batiment_description_Bâtiment collectif à usage principal d'habitation  \\\n",
       "0                                                  0                                   \n",
       "1                                                  0                                   \n",
       "2                                                  0                                   \n",
       "3                                                  0                                   \n",
       "4                                                  0                                   \n",
       "\n",
       "   tr002_type_batiment_description_Logement  \\\n",
       "0                                         0   \n",
       "1                                         0   \n",
       "2                                         0   \n",
       "3                                         1   \n",
       "4                                         1   \n",
       "\n",
       "   tr002_type_batiment_description_Maison Individuelle  \n",
       "0                                                  1    \n",
       "1                                                  1    \n",
       "2                                                  1    \n",
       "3                                                  0    \n",
       "4                                                  0    "
      ]
     },
     "execution_count": 27,
     "metadata": {},
     "output_type": "execute_result"
    }
   ],
   "source": [
    "#train test split\n",
    "X = pd.get_dummies(df.drop(columns=[\"classe_consommation_energie\", \"classe_estimation_ges\"], axis=1))\n",
    "y1 = df[\"classe_consommation_energie\"]\n",
    "y2 = df[\"classe_estimation_ges\"]\n",
    "lr = LogisticRegression()\n",
    "xg = XGBClassifier()\n",
    "rf = RandomForestClassifier()\n",
    "scaler = StandardScaler()\n",
    "encoder = LabelEncoder()\n",
    "X.head()"
   ]
  },
  {
   "cell_type": "code",
   "execution_count": 28,
   "metadata": {},
   "outputs": [],
   "source": [
    "def train_test(X, y, models):\n",
    "    X_train, X_test, y_train, y_test = train_test_split(X, y, test_size=0.3, random_state=42)\n",
    "    results = pd.DataFrame()\n",
    "    for model in models:\n",
    "        model.fit(X_train, y_train)\n",
    "        y_pred = model.predict(X_test)\n",
    "        model_name = model.__class__.__name__\n",
    "        results[model_name+\" train score\"] = [model.score(X_train, y_train)]\n",
    "        results[model_name+\" test score\"] = [model.score(X_test, y_test)]\n",
    "        results.index = [\"score\"]\n",
    "    return results\n"
   ]
  },
  {
   "cell_type": "code",
   "execution_count": 29,
   "metadata": {},
   "outputs": [
    {
     "data": {
      "text/plain": [
       "(array(['A', 'B', 'C', 'D', 'E', 'F', 'G', 'N'], dtype=object),\n",
       " array(['A', 'B', 'C', 'D', 'E', 'F', 'G', 'N'], dtype=object))"
      ]
     },
     "execution_count": 29,
     "metadata": {},
     "output_type": "execute_result"
    }
   ],
   "source": [
    "np.unique(y1), np.unique(y2)"
   ]
  },
  {
   "cell_type": "code",
   "execution_count": 30,
   "metadata": {},
   "outputs": [
    {
     "data": {
      "text/plain": [
       "array(['A', 'B', 'C', 'D', 'E', 'F', 'G', 'N'], dtype=object)"
      ]
     },
     "execution_count": 30,
     "metadata": {},
     "output_type": "execute_result"
    }
   ],
   "source": [
    "encoder.fit(y1)\n",
    "encoder.classes_"
   ]
  },
  {
   "cell_type": "code",
   "execution_count": 31,
   "metadata": {},
   "outputs": [
    {
     "data": {
      "text/plain": [
       "array([0, 1, 2, 3, 4, 5, 6, 7])"
      ]
     },
     "execution_count": 31,
     "metadata": {},
     "output_type": "execute_result"
    }
   ],
   "source": [
    "encoder.transform(['A', 'B', 'C', 'D', 'E', 'F', 'G', 'N'])"
   ]
  },
  {
   "cell_type": "code",
   "execution_count": 32,
   "metadata": {},
   "outputs": [],
   "source": [
    "y = encoder.transform(y1)"
   ]
  },
  {
   "cell_type": "code",
   "execution_count": 33,
   "metadata": {},
   "outputs": [
    {
     "name": "stderr",
     "output_type": "stream",
     "text": [
      "/usr/local/lib/python3.10/dist-packages/sklearn/linear_model/_logistic.py:458: ConvergenceWarning: lbfgs failed to converge (status=2):\n",
      "ABNORMAL_TERMINATION_IN_LNSRCH.\n",
      "\n",
      "Increase the number of iterations (max_iter) or scale the data as shown in:\n",
      "    https://scikit-learn.org/stable/modules/preprocessing.html\n",
      "Please also refer to the documentation for alternative solver options:\n",
      "    https://scikit-learn.org/stable/modules/linear_model.html#logistic-regression\n",
      "  n_iter_i = _check_optimize_result(\n"
     ]
    },
    {
     "data": {
      "text/html": [
       "<div>\n",
       "<style scoped>\n",
       "    .dataframe tbody tr th:only-of-type {\n",
       "        vertical-align: middle;\n",
       "    }\n",
       "\n",
       "    .dataframe tbody tr th {\n",
       "        vertical-align: top;\n",
       "    }\n",
       "\n",
       "    .dataframe thead th {\n",
       "        text-align: right;\n",
       "    }\n",
       "</style>\n",
       "<table border=\"1\" class=\"dataframe\">\n",
       "  <thead>\n",
       "    <tr style=\"text-align: right;\">\n",
       "      <th></th>\n",
       "      <th>XGBClassifier train score</th>\n",
       "      <th>XGBClassifier test score</th>\n",
       "      <th>LogisticRegression train score</th>\n",
       "      <th>LogisticRegression test score</th>\n",
       "      <th>RandomForestClassifier train score</th>\n",
       "      <th>RandomForestClassifier test score</th>\n",
       "    </tr>\n",
       "  </thead>\n",
       "  <tbody>\n",
       "    <tr>\n",
       "      <th>score</th>\n",
       "      <td>0.542001</td>\n",
       "      <td>0.457876</td>\n",
       "      <td>0.033388</td>\n",
       "      <td>0.035113</td>\n",
       "      <td>0.98315</td>\n",
       "      <td>0.403622</td>\n",
       "    </tr>\n",
       "  </tbody>\n",
       "</table>\n",
       "</div>"
      ],
      "text/plain": [
       "       XGBClassifier train score  XGBClassifier test score  \\\n",
       "score                   0.542001                  0.457876   \n",
       "\n",
       "       LogisticRegression train score  LogisticRegression test score  \\\n",
       "score                        0.033388                       0.035113   \n",
       "\n",
       "       RandomForestClassifier train score  RandomForestClassifier test score  \n",
       "score                             0.98315                           0.403622  "
      ]
     },
     "execution_count": 33,
     "metadata": {},
     "output_type": "execute_result"
    }
   ],
   "source": [
    "train_test(X, y, [xg, lr, rf])"
   ]
  },
  {
   "cell_type": "code",
   "execution_count": 34,
   "metadata": {},
   "outputs": [],
   "source": [
    "import pickle\n",
    "pickle.dump(encoder, open(\"encoder.pkl\", \"wb\"))"
   ]
  },
  {
   "cell_type": "code",
   "execution_count": 38,
   "metadata": {},
   "outputs": [],
   "source": [
    "pickle.dump(xg, open(\"model.pkl\", \"wb\"))"
   ]
  },
  {
   "cell_type": "code",
   "execution_count": 52,
   "metadata": {},
   "outputs": [
    {
     "data": {
      "text/plain": [
       "Index(['annee_construction', 'code_insee_commune_actualise',\n",
       "       'surface_thermique_lot',\n",
       "       'tr001_modele_dpe_type_libelle_Bâtiment public',\n",
       "       'tr001_modele_dpe_type_libelle_Copropriété',\n",
       "       'tr001_modele_dpe_type_libelle_Location',\n",
       "       'tr001_modele_dpe_type_libelle_Neuf',\n",
       "       'tr001_modele_dpe_type_libelle_Vente',\n",
       "       'tr002_type_batiment_description_Bâtiment collectif à usage principal d'habitation',\n",
       "       'tr002_type_batiment_description_Logement',\n",
       "       'tr002_type_batiment_description_Maison Individuelle'],\n",
       "      dtype='object')"
      ]
     },
     "execution_count": 52,
     "metadata": {},
     "output_type": "execute_result"
    }
   ],
   "source": [
    "X.columns"
   ]
  },
  {
   "cell_type": "code",
   "execution_count": 56,
   "metadata": {},
   "outputs": [
    {
     "data": {
      "text/plain": [
       "array([2010,    0,    0,    0,    0,    0,    0,    0,    0,    0,    0])"
      ]
     },
     "execution_count": 56,
     "metadata": {},
     "output_type": "execute_result"
    }
   ],
   "source": [
    "d = {\n",
    "  \"annee_construction\": 2010,\n",
    "  \"surface_thermique_lot\": 0,\n",
    "  \"code_insee_commune_actualise\": 0,\n",
    "  \"batiment_public\": 0,\n",
    "  \"copropriete\": 0,\n",
    "  \"location\": 0,\n",
    "  \"neuf\": 0,\n",
    "  \"vente\": 0,\n",
    "  \"batiment_collectif\": 0,\n",
    "  \"logement\": 0,\n",
    "  \"maison_individuelle\": 0\n",
    "}\n",
    "np.array(list(d.values()))"
   ]
  },
  {
   "cell_type": "code",
   "execution_count": 57,
   "metadata": {},
   "outputs": [
    {
     "data": {
      "text/html": [
       "<div>\n",
       "<style scoped>\n",
       "    .dataframe tbody tr th:only-of-type {\n",
       "        vertical-align: middle;\n",
       "    }\n",
       "\n",
       "    .dataframe tbody tr th {\n",
       "        vertical-align: top;\n",
       "    }\n",
       "\n",
       "    .dataframe thead th {\n",
       "        text-align: right;\n",
       "    }\n",
       "</style>\n",
       "<table border=\"1\" class=\"dataframe\">\n",
       "  <thead>\n",
       "    <tr style=\"text-align: right;\">\n",
       "      <th></th>\n",
       "      <th>annee_construction</th>\n",
       "      <th>code_insee_commune_actualise</th>\n",
       "      <th>surface_thermique_lot</th>\n",
       "      <th>tr001_modele_dpe_type_libelle_Bâtiment public</th>\n",
       "      <th>tr001_modele_dpe_type_libelle_Copropriété</th>\n",
       "      <th>tr001_modele_dpe_type_libelle_Location</th>\n",
       "      <th>tr001_modele_dpe_type_libelle_Neuf</th>\n",
       "      <th>tr001_modele_dpe_type_libelle_Vente</th>\n",
       "      <th>tr002_type_batiment_description_Bâtiment collectif à usage principal d'habitation</th>\n",
       "      <th>tr002_type_batiment_description_Logement</th>\n",
       "      <th>tr002_type_batiment_description_Maison Individuelle</th>\n",
       "    </tr>\n",
       "  </thead>\n",
       "  <tbody>\n",
       "    <tr>\n",
       "      <th>0</th>\n",
       "      <td>2010</td>\n",
       "      <td>0</td>\n",
       "      <td>0</td>\n",
       "      <td>0</td>\n",
       "      <td>0</td>\n",
       "      <td>0</td>\n",
       "      <td>0</td>\n",
       "      <td>0</td>\n",
       "      <td>0</td>\n",
       "      <td>0</td>\n",
       "      <td>0</td>\n",
       "    </tr>\n",
       "  </tbody>\n",
       "</table>\n",
       "</div>"
      ],
      "text/plain": [
       "   annee_construction  code_insee_commune_actualise  surface_thermique_lot  \\\n",
       "0                2010                             0                      0   \n",
       "\n",
       "   tr001_modele_dpe_type_libelle_Bâtiment public  \\\n",
       "0                                              0   \n",
       "\n",
       "   tr001_modele_dpe_type_libelle_Copropriété  \\\n",
       "0                                          0   \n",
       "\n",
       "   tr001_modele_dpe_type_libelle_Location  tr001_modele_dpe_type_libelle_Neuf  \\\n",
       "0                                       0                                   0   \n",
       "\n",
       "   tr001_modele_dpe_type_libelle_Vente  \\\n",
       "0                                    0   \n",
       "\n",
       "   tr002_type_batiment_description_Bâtiment collectif à usage principal d'habitation  \\\n",
       "0                                                  0                                   \n",
       "\n",
       "   tr002_type_batiment_description_Logement  \\\n",
       "0                                         0   \n",
       "\n",
       "   tr002_type_batiment_description_Maison Individuelle  \n",
       "0                                                  0    "
      ]
     },
     "execution_count": 57,
     "metadata": {},
     "output_type": "execute_result"
    }
   ],
   "source": [
    "data = np.array(list(d.values()))\n",
    "columns = ['annee_construction', 'code_insee_commune_actualise','surface_thermique_lot',\n",
    "                   'tr001_modele_dpe_type_libelle_Bâtiment public','tr001_modele_dpe_type_libelle_Copropriété',\n",
    "                   'tr001_modele_dpe_type_libelle_Location','tr001_modele_dpe_type_libelle_Neuf',\n",
    "       'tr001_modele_dpe_type_libelle_Vente',\n",
    "       \"tr002_type_batiment_description_Bâtiment collectif à usage principal d'habitation\",\n",
    "       'tr002_type_batiment_description_Logement',\n",
    "       'tr002_type_batiment_description_Maison Individuelle'\n",
    "       ]\n",
    "data = pd.DataFrame(data.reshape(1,-1), columns=columns)\n",
    "data"
   ]
  },
  {
   "cell_type": "code",
   "execution_count": null,
   "metadata": {},
   "outputs": [],
   "source": []
  }
 ],
 "metadata": {
  "kernelspec": {
   "display_name": "NLP",
   "language": "python",
   "name": "python3"
  },
  "language_info": {
   "codemirror_mode": {
    "name": "ipython",
    "version": 3
   },
   "file_extension": ".py",
   "mimetype": "text/x-python",
   "name": "python",
   "nbconvert_exporter": "python",
   "pygments_lexer": "ipython3",
   "version": "3.10.6"
  }
 },
 "nbformat": 4,
 "nbformat_minor": 2
}
